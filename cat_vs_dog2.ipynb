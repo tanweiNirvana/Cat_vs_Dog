{
 "cells": [
  {
   "cell_type": "code",
   "execution_count": 1,
   "metadata": {
    "collapsed": true
   },
   "outputs": [],
   "source": [
    "import os\n",
    "import h5py\n",
    "import shutil\n",
    "import zipfile\n",
    "import requests\n",
    "import numpy as np\n",
    "import tensorflow as tf\n",
    "import matplotlib.pyplot as plt\n",
    "import matplotlib.image as mpimg\n",
    "\n",
    "from sklearn.utils import shuffle\n",
    "from keras.preprocessing import image\n",
    "from keras import models,layers,applications\n"
   ]
  },
  {
   "cell_type": "code",
   "execution_count": null,
   "metadata": {
    "collapsed": true
   },
   "outputs": [],
   "source": [
    "url_train = 'https://storage.googleapis.com/kaggle-competitions-data/kaggle/5441/train.zip?GoogleAccessId=web-data@kaggle-161607.iam.gserviceaccount.com&Expires=1513750312&Signature=Ubqo2VusO%2FMKiMdoWJytkHwuBi4gG0i%2F0HbXMuJHgz0CqFHZG%2FlM1%2BM3uJ%2Br8RYta4azbsNvKXm4E7k4m2kfuw1juZtzaSTsdJ8GYIM3CuSKyRnFiAidiMGLNy9nHMOhfbDMaOi%2F55uLbcnBcVrhhjwWGv4g4PZqGaSLUX2g7WZb3xcQzI%2BJCskpEgA%2BjY%2FYspaG4yKT%2ByGjMTjsV2br%2Bb83AmbQDD802i5Ng24%2ByDHXTKS5bVjKAE9rYP%2FQZNrefLDaWxpzd3lgqg3X3wuy0ER9MoS6kSKNZfpbQ6IVoRcp6PZ2MrGAtlvSjoZRodkzWX9sT1ip%2B4yxB4yhDS4urQ%3D%3D'\n",
    "url_test = 'https://storage.googleapis.com/kaggle-competitions-data/kaggle/5441/test.zip?GoogleAccessId=web-data@kaggle-161607.iam.gserviceaccount.com&Expires=1513750320&Signature=qoc1ZpqTtGDESX8O047XBFpcxVrFKVFWDFmdclXIxlZ3rkAaIzpsVMHHbxT5k%2FQlHREs5QWIVnekip3lsL6p%2FHy3wRa%2B39M3e10NyAb7DcJfKyAXAPT2aFp2qU4xDnywriP9NBLYs1xqBch6lidcP9OycrV9QxzWsvF4U4r06Vosi9UhPZ6p8eXOPJUkjBxYGkLc2vD%2F2He2UBkVHOCxVlwMf6aOW4T2XWq%2BM4hnQ7lhKr7g5joAhclx0ZxUudFf3UoJ2eOx3jD1rjNIqPhPRX0eOL99%2BIwX%2Bl7tnGszMT901yVBIuV0gz%2FTrUgkchZv7N6jp5WmALcXP15jYWIPyQ%3D%3D'\n",
    "\n",
    "train_path = \"train.zip\"\n",
    "test_path = \"test.zip\"\n",
    "\n",
    "def Download_data(url,path):\n",
    "    s = requests.Session()\n",
    "    file = s.get(url)\n",
    "    with open(path,'wb') as code:\n",
    "        code.write(file.content)\n",
    "    \n",
    "#解压代码\n",
    "def Un_zip(file_name):  \n",
    "    \"\"\"unzip zip file\"\"\"  \n",
    "    zip_file = zipfile.ZipFile(file_name)  \n",
    "    for names in zip_file.namelist():  \n",
    "        zip_file.extract(names)  \n",
    "    zip_file.close() \n",
    "\n",
    "Download_data(url_train,train_path)\n",
    "Download_data(url_test,test_path)\n",
    "print(\"下载完成！\")\n",
    "\n",
    "Un_zip(train_path)\n",
    "Un_zip(test_path)\n",
    "print(\"解压完成！\")"
   ]
  },
  {
   "cell_type": "code",
   "execution_count": 5,
   "metadata": {},
   "outputs": [
    {
     "ename": "PermissionError",
     "evalue": "[WinError 5] 拒绝访问。: 'train'",
     "output_type": "error",
     "traceback": [
      "\u001b[1;31m---------------------------------------------------------------------------\u001b[0m",
      "\u001b[1;31mPermissionError\u001b[0m                           Traceback (most recent call last)",
      "\u001b[1;32m<ipython-input-5-40e6b39d6d5d>\u001b[0m in \u001b[0;36m<module>\u001b[1;34m()\u001b[0m\n\u001b[0;32m     25\u001b[0m     \u001b[0mshutil\u001b[0m\u001b[1;33m.\u001b[0m\u001b[0mmove\u001b[0m\u001b[1;33m(\u001b[0m\u001b[1;34m'test/'\u001b[0m\u001b[1;33m+\u001b[0m\u001b[0mfilename\u001b[0m\u001b[1;33m,\u001b[0m \u001b[1;34m'test2/test/'\u001b[0m\u001b[1;33m+\u001b[0m\u001b[0mfilename\u001b[0m\u001b[1;33m)\u001b[0m\u001b[1;33m\u001b[0m\u001b[0m\n\u001b[0;32m     26\u001b[0m \u001b[1;33m\u001b[0m\u001b[0m\n\u001b[1;32m---> 27\u001b[1;33m \u001b[0mos\u001b[0m\u001b[1;33m.\u001b[0m\u001b[0mremove\u001b[0m\u001b[1;33m(\u001b[0m\u001b[1;34m\"train\"\u001b[0m\u001b[1;33m)\u001b[0m\u001b[1;33m\u001b[0m\u001b[0m\n\u001b[0m\u001b[0;32m     28\u001b[0m \u001b[0mos\u001b[0m\u001b[1;33m.\u001b[0m\u001b[0mremove\u001b[0m\u001b[1;33m(\u001b[0m\u001b[1;34m\"test\"\u001b[0m\u001b[1;33m)\u001b[0m\u001b[1;33m\u001b[0m\u001b[0m\n",
      "\u001b[1;31mPermissionError\u001b[0m: [WinError 5] 拒绝访问。: 'train'"
     ]
    }
   ],
   "source": [
    "train_filenames = os.listdir('train')\n",
    "test_filenames = os.listdir('test')\n",
    "train_cat = filter(lambda x:x[:3] == 'cat', train_filenames)\n",
    "train_dog = filter(lambda x:x[:3] == 'dog', train_filenames)\n",
    "\n",
    "def create_mkdir(dirname):\n",
    "    if os.path.exists(dirname):\n",
    "        shutil.rmtree(dirname)\n",
    "    os.mkdir(dirname)\n",
    "\n",
    "def file_move(data,old_dir,new_dir):\n",
    "    for filename in data:\n",
    "        shutil.move(old_dir+filename, new_dir+filename)   \n",
    "        \n",
    "cat_path = 'train2/cat/'\n",
    "dog_path = 'train2/dog/'\n",
    "\n",
    "create_mkdir('train2')\n",
    "os.mkdir(cat_path)\n",
    "os.mkdir(dog_path)\n",
    "\n",
    "create_mkdir('test2')\n",
    "os.mkdir('test2/test')\n",
    "\n",
    "file_move(train_cat,'train/',cat_path)\n",
    "file_move(train_dog,'train/',dog_path)\n",
    "file_move(test_filenames,'test/','test2/test/') \n",
    "    \n",
    "shutil.rmtree(\"test\")\n",
    "shutil.rmtree(\"train\")\n",
    "print(\"分类完成！\")"
   ]
  },
  {
   "cell_type": "code",
   "execution_count": null,
   "metadata": {
    "collapsed": true
   },
   "outputs": [],
   "source": [
    "#显示猫和狗的图像\n",
    "file_cat = os.listdir(cat_path)\n",
    "files_dog = os.listdir(dog_path)\n",
    "for i in range(3):\n",
    "    image_cat = mpimg.imread(cat_path+file_cat[np.random.randint(0,cats_num)])\n",
    "    image_dog = mpimg.imread(cat_path+files_dog[np.random.randint(0,dogs_num)])\n",
    "\n",
    "    plt.subplot(1,2,1)\n",
    "    plt.title('Cat')\n",
    "    plt.imshow(image_cat)\n",
    "    plt.axis('off')\n",
    "    plt.subplot(1,2,2)\n",
    "    plt.title('Dog')\n",
    "    plt.imshow(image_dog)\n",
    "    plt.axis('off')\n",
    "    plt.show()"
   ]
  },
  {
   "cell_type": "code",
   "execution_count": null,
   "metadata": {},
   "outputs": [
    {
     "name": "stdout",
     "output_type": "stream",
     "text": [
      "Found 25000 images belonging to 2 classes.\n",
      "Found 12500 images belonging to 1 classes.\n"
     ]
    }
   ],
   "source": [
    "input_tensor = layers.Input((299, 299, 3))\n",
    "x = input_tensor\n",
    "x = applications.inception_v3.preprocess_input(x)\n",
    "\n",
    "base_model = applications.InceptionV3(input_tensor=x, weights='imagenet', include_top=False)\n",
    "model = models.Model(base_model.input, layers.GlobalAveragePooling2D()(base_model.output))\n",
    "\n",
    "generator = image.ImageDataGenerator()\n",
    "train_generator = generator.flow_from_directory(\"train2\", (299,299), shuffle=False, \n",
    "                                          batch_size=16)\n",
    "test_generator = generator.flow_from_directory(\"test2\", (299,299), shuffle=False, \n",
    "                                         batch_size=16, class_mode=None)\n",
    "\n",
    "train = model.predict_generator(train_generator, train_generator.nb_sample)\n",
    "test = model.predict_generator(test_generator, test_generator.nb_sample)\n",
    "with h5py.File(\"InceptionV3.h5\".func_name) as h:\n",
    "    h.create_dataset(\"train\", data=train)\n",
    "    h.create_dataset(\"test\", data=test)\n",
    "    h.create_dataset(\"label\", data=train_generator.classes)"
   ]
  },
  {
   "cell_type": "code",
   "execution_count": null,
   "metadata": {
    "collapsed": true
   },
   "outputs": [],
   "source": [
    "with h5py.File(\"InceptionV3.h5\", 'r') as h:\n",
    "    X_train = np.array(h['train'])\n",
    "    X_test = np.array(h['test'])\n",
    "    y_train = np.array(h['label'])\n",
    "\n",
    "X_train, y_train = shuffle(X_train, y_train)"
   ]
  },
  {
   "cell_type": "code",
   "execution_count": null,
   "metadata": {
    "collapsed": true
   },
   "outputs": [],
   "source": []
  },
  {
   "cell_type": "code",
   "execution_count": null,
   "metadata": {
    "collapsed": true
   },
   "outputs": [],
   "source": [
    "input_tensor = layers.Input((299, 299, 3))\n",
    "x = input_tensor\n",
    "x = applications.inception_v3.preprocess_input(x)\n",
    "\n",
    "base_model = applications.InceptionV3(input_tensor=x, weights='imagenet', include_top=False)\n",
    "model = models.Model(base_model.input, layers.GlobalAveragePooling2D()(base_model.output))\n",
    "\n",
    "generator = image.ImageDataGenerator()\n",
    "train_generator = generator.flow_from_directory(\"train2\", (299,299), shuffle=False, \n",
    "                                          batch_size=16)\n",
    "test_generator = generator.flow_from_directory(\"test2\", (299,299), shuffle=False, \n",
    "                                         batch_size=16, class_mode=None)\n",
    "\n",
    "X_train = model.predict_generator(train_generator, train_generator.nb_sample)\n",
    "X_test = model.predict_generator(test_generator, test_generator.nb_sample)\n",
    "y_train=train_generator.classes\n",
    "\n",
    "X_train, y_train = shuffle(X_train, y_train)"
   ]
  },
  {
   "cell_type": "code",
   "execution_count": null,
   "metadata": {
    "collapsed": true
   },
   "outputs": [],
   "source": []
  },
  {
   "cell_type": "code",
   "execution_count": null,
   "metadata": {
    "collapsed": true
   },
   "outputs": [],
   "source": [
    "input_tensor = layers.Input(X_train.shape)\n",
    "x = layers.Dropout(0.5)(input_tensor)\n",
    "x = layers.Dense(1, activation='sigmoid')(x)\n",
    "model = models.Model(input_tensor, x)\n",
    "\n",
    "model.compile(optimizer='adadelta',\n",
    "              loss='binary_crossentropy',\n",
    "              metrics=['accuracy'])"
   ]
  },
  {
   "cell_type": "code",
   "execution_count": null,
   "metadata": {
    "collapsed": true
   },
   "outputs": [],
   "source": [
    "model.fit(X_train, y_train, batch_size=128, nb_epoch=8, validation_split=0.2)"
   ]
  },
  {
   "cell_type": "code",
   "execution_count": null,
   "metadata": {
    "collapsed": true
   },
   "outputs": [],
   "source": []
  }
 ],
 "metadata": {
  "kernelspec": {
   "display_name": "Python 3",
   "language": "python",
   "name": "python3"
  },
  "language_info": {
   "codemirror_mode": {
    "name": "ipython",
    "version": 3
   },
   "file_extension": ".py",
   "mimetype": "text/x-python",
   "name": "python",
   "nbconvert_exporter": "python",
   "pygments_lexer": "ipython3",
   "version": "3.5.3"
  },
  "widgets": {
   "state": {},
   "version": "1.1.2"
  }
 },
 "nbformat": 4,
 "nbformat_minor": 2
}
